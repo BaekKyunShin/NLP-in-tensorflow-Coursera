{
 "cells": [
  {
   "cell_type": "markdown",
   "metadata": {},
   "source": [
    "# 2. sarcasm Classification"
   ]
  },
  {
   "cell_type": "code",
   "execution_count": 1,
   "metadata": {},
   "outputs": [],
   "source": [
    "import wget\n",
    "url = 'https://storage.googleapis.com/laurencemoroney-blog.appspot.com/sarcasm.json'\n",
    "# wget.download(url)"
   ]
  },
  {
   "cell_type": "code",
   "execution_count": 2,
   "metadata": {},
   "outputs": [],
   "source": [
    "# Run this to ensure TensorFlow 2.x is used\n",
    "try:\n",
    "    # %tensorflow_version only exists in Colab.\n",
    "    %tensorflow_version 2.x\n",
    "except Exception:\n",
    "    pass"
   ]
  },
  {
   "cell_type": "code",
   "execution_count": 3,
   "metadata": {},
   "outputs": [],
   "source": [
    "import json\n",
    "import tensorflow as tf\n",
    "\n",
    "from tensorflow.keras.preprocessing.text import Tokenizer\n",
    "from tensorflow.keras.preprocessing.sequence import pad_sequences"
   ]
  },
  {
   "cell_type": "code",
   "execution_count": 4,
   "metadata": {},
   "outputs": [],
   "source": [
    "vocab_size = 10000\n",
    "embedding_dim = 16\n",
    "max_length = 100\n",
    "trunc_type='post'\n",
    "padding_type='post'\n",
    "oov_tok = \"<OOV>\"\n",
    "training_size = 20000"
   ]
  },
  {
   "cell_type": "code",
   "execution_count": 5,
   "metadata": {},
   "outputs": [],
   "source": [
    "with open(\"sarcasm.json\", 'r') as f:\n",
    "    datastore = json.load(f)\n",
    "\n",
    "sentences = []\n",
    "labels = []\n",
    "\n",
    "for item in datastore:\n",
    "    sentences.append(item['headline'])\n",
    "    labels.append(item['is_sarcastic'])"
   ]
  },
  {
   "cell_type": "code",
   "execution_count": 6,
   "metadata": {},
   "outputs": [],
   "source": [
    "training_sentences = sentences[0:training_size]\n",
    "testing_sentences = sentences[training_size:]\n",
    "training_labels = labels[0:training_size]\n",
    "testing_labels = labels[training_size:]"
   ]
  },
  {
   "cell_type": "code",
   "execution_count": 7,
   "metadata": {},
   "outputs": [],
   "source": [
    "tokenizer = Tokenizer(num_words=vocab_size, oov_token=oov_tok)\n",
    "tokenizer.fit_on_texts(training_sentences)\n",
    "\n",
    "word_index = tokenizer.word_index\n",
    "\n",
    "training_sequences = tokenizer.texts_to_sequences(training_sentences)\n",
    "training_padded = pad_sequences(training_sequences, maxlen=max_length, padding=padding_type, truncating=trunc_type)\n",
    "\n",
    "testing_sequences = tokenizer.texts_to_sequences(testing_sentences)\n",
    "testing_padded = pad_sequences(testing_sequences, maxlen=max_length, padding=padding_type, truncating=trunc_type)"
   ]
  },
  {
   "cell_type": "code",
   "execution_count": 9,
   "metadata": {},
   "outputs": [],
   "source": [
    "# Need this block to get it to work with TensorFlow 2.x\n",
    "import numpy as np\n",
    "training_padded = np.array(training_padded)\n",
    "training_labels = np.array(training_labels)\n",
    "testing_padded = np.array(testing_padded)\n",
    "testing_labels = np.array(testing_labels)"
   ]
  },
  {
   "cell_type": "code",
   "execution_count": 10,
   "metadata": {},
   "outputs": [
    {
     "data": {
      "text/plain": [
       "(array([[ 328,    1,  799, ...,    0,    0,    0],\n",
       "        [   4, 6840, 3096, ...,    0,    0,    0],\n",
       "        [ 153,  890,    2, ...,    0,    0,    0],\n",
       "        ...,\n",
       "        [  79, 1729,    1, ...,    0,    0,    0],\n",
       "        [  53, 5108, 4735, ...,    0,    0,    0],\n",
       "        [ 312,  705,    1, ...,    0,    0,    0]]), numpy.ndarray)"
      ]
     },
     "execution_count": 10,
     "metadata": {},
     "output_type": "execute_result"
    }
   ],
   "source": [
    "training_padded, type(training_padded)"
   ]
  },
  {
   "cell_type": "code",
   "execution_count": 11,
   "metadata": {},
   "outputs": [],
   "source": [
    "model = tf.keras.Sequential([\n",
    "    tf.keras.layers.Embedding(vocab_size, embedding_dim, input_length=max_length),\n",
    "    tf.keras.layers.GlobalAveragePooling1D(),\n",
    "    tf.keras.layers.Dense(24, activation='relu'),\n",
    "    tf.keras.layers.Dense(1, activation='sigmoid')\n",
    "])\n",
    "model.compile(loss='binary_crossentropy',optimizer='adam',metrics=['accuracy'])"
   ]
  },
  {
   "cell_type": "code",
   "execution_count": 13,
   "metadata": {},
   "outputs": [
    {
     "name": "stdout",
     "output_type": "stream",
     "text": [
      "Model: \"sequential\"\n",
      "_________________________________________________________________\n",
      "Layer (type)                 Output Shape              Param #   \n",
      "=================================================================\n",
      "embedding (Embedding)        (None, 100, 16)           160000    \n",
      "_________________________________________________________________\n",
      "global_average_pooling1d (Gl (None, 16)                0         \n",
      "_________________________________________________________________\n",
      "dense (Dense)                (None, 24)                408       \n",
      "_________________________________________________________________\n",
      "dense_1 (Dense)              (None, 1)                 25        \n",
      "=================================================================\n",
      "Total params: 160,433\n",
      "Trainable params: 160,433\n",
      "Non-trainable params: 0\n",
      "_________________________________________________________________\n"
     ]
    }
   ],
   "source": [
    "model.summary()"
   ]
  },
  {
   "cell_type": "code",
   "execution_count": 14,
   "metadata": {},
   "outputs": [
    {
     "name": "stdout",
     "output_type": "stream",
     "text": [
      "Train on 20000 samples, validate on 6709 samples\n",
      "Epoch 1/30\n",
      "20000/20000 - 4s - loss: 0.6626 - accuracy: 0.5853 - val_loss: 0.5745 - val_accuracy: 0.7126\n",
      "Epoch 2/30\n",
      "20000/20000 - 2s - loss: 0.4293 - accuracy: 0.8282 - val_loss: 0.3839 - val_accuracy: 0.8404\n",
      "Epoch 3/30\n",
      "20000/20000 - 2s - loss: 0.3108 - accuracy: 0.8766 - val_loss: 0.3522 - val_accuracy: 0.8532\n",
      "Epoch 4/30\n",
      "20000/20000 - 2s - loss: 0.2600 - accuracy: 0.8989 - val_loss: 0.3423 - val_accuracy: 0.8559\n",
      "Epoch 5/30\n",
      "20000/20000 - 2s - loss: 0.2250 - accuracy: 0.9134 - val_loss: 0.3441 - val_accuracy: 0.8538\n",
      "Epoch 6/30\n",
      "20000/20000 - 2s - loss: 0.1972 - accuracy: 0.9235 - val_loss: 0.3607 - val_accuracy: 0.8466\n",
      "Epoch 7/30\n",
      "20000/20000 - 2s - loss: 0.1748 - accuracy: 0.9355 - val_loss: 0.3615 - val_accuracy: 0.8526\n",
      "Epoch 8/30\n",
      "20000/20000 - 2s - loss: 0.1589 - accuracy: 0.9416 - val_loss: 0.3835 - val_accuracy: 0.8489\n",
      "Epoch 9/30\n",
      "20000/20000 - 2s - loss: 0.1424 - accuracy: 0.9495 - val_loss: 0.3927 - val_accuracy: 0.8517\n",
      "Epoch 10/30\n",
      "20000/20000 - 2s - loss: 0.1286 - accuracy: 0.9553 - val_loss: 0.4111 - val_accuracy: 0.8508\n",
      "Epoch 11/30\n",
      "20000/20000 - 2s - loss: 0.1173 - accuracy: 0.9593 - val_loss: 0.4331 - val_accuracy: 0.8474\n",
      "Epoch 12/30\n",
      "20000/20000 - 2s - loss: 0.1075 - accuracy: 0.9633 - val_loss: 0.4533 - val_accuracy: 0.8489\n",
      "Epoch 13/30\n",
      "20000/20000 - 2s - loss: 0.0994 - accuracy: 0.9669 - val_loss: 0.4772 - val_accuracy: 0.8451\n",
      "Epoch 14/30\n",
      "20000/20000 - 2s - loss: 0.0923 - accuracy: 0.9694 - val_loss: 0.5077 - val_accuracy: 0.8404\n",
      "Epoch 15/30\n",
      "20000/20000 - 2s - loss: 0.0840 - accuracy: 0.9716 - val_loss: 0.5353 - val_accuracy: 0.8362\n",
      "Epoch 16/30\n",
      "20000/20000 - 3s - loss: 0.0762 - accuracy: 0.9754 - val_loss: 0.5663 - val_accuracy: 0.8319\n",
      "Epoch 17/30\n",
      "20000/20000 - 2s - loss: 0.0711 - accuracy: 0.9769 - val_loss: 0.6376 - val_accuracy: 0.8261\n",
      "Epoch 18/30\n",
      "20000/20000 - 2s - loss: 0.0645 - accuracy: 0.9802 - val_loss: 0.6204 - val_accuracy: 0.8338\n",
      "Epoch 19/30\n",
      "20000/20000 - 2s - loss: 0.0603 - accuracy: 0.9808 - val_loss: 0.6665 - val_accuracy: 0.8272\n",
      "Epoch 20/30\n",
      "20000/20000 - 2s - loss: 0.0558 - accuracy: 0.9834 - val_loss: 0.6855 - val_accuracy: 0.8286\n",
      "Epoch 21/30\n",
      "20000/20000 - 2s - loss: 0.0511 - accuracy: 0.9840 - val_loss: 0.7319 - val_accuracy: 0.8262\n",
      "Epoch 22/30\n",
      "20000/20000 - 2s - loss: 0.0476 - accuracy: 0.9858 - val_loss: 0.7557 - val_accuracy: 0.8250\n",
      "Epoch 23/30\n",
      "20000/20000 - 2s - loss: 0.0448 - accuracy: 0.9866 - val_loss: 0.8667 - val_accuracy: 0.8190\n",
      "Epoch 24/30\n",
      "20000/20000 - 2s - loss: 0.0409 - accuracy: 0.9878 - val_loss: 0.8275 - val_accuracy: 0.8231\n",
      "Epoch 25/30\n",
      "20000/20000 - 2s - loss: 0.0385 - accuracy: 0.9887 - val_loss: 0.8559 - val_accuracy: 0.8202\n",
      "Epoch 26/30\n",
      "20000/20000 - 3s - loss: 0.0345 - accuracy: 0.9898 - val_loss: 0.9325 - val_accuracy: 0.8180\n",
      "Epoch 27/30\n",
      "20000/20000 - 2s - loss: 0.0328 - accuracy: 0.9902 - val_loss: 0.9508 - val_accuracy: 0.8164\n",
      "Epoch 28/30\n",
      "20000/20000 - 2s - loss: 0.0315 - accuracy: 0.9908 - val_loss: 0.9670 - val_accuracy: 0.8179\n",
      "Epoch 29/30\n",
      "20000/20000 - 2s - loss: 0.0262 - accuracy: 0.9927 - val_loss: 1.0355 - val_accuracy: 0.8158\n",
      "Epoch 30/30\n",
      "20000/20000 - 2s - loss: 0.0258 - accuracy: 0.9929 - val_loss: 1.1632 - val_accuracy: 0.8098\n"
     ]
    }
   ],
   "source": [
    "num_epochs = 30\n",
    "history = model.fit(training_padded, training_labels, epochs=num_epochs, validation_data=(testing_padded, testing_labels), verbose=2)"
   ]
  },
  {
   "cell_type": "code",
   "execution_count": 15,
   "metadata": {},
   "outputs": [
    {
     "data": {
      "image/png": "[encoded data removed]",
      "text/plain": [
       "<Figure size 432x288 with 1 Axes>"
      ]
     },
     "metadata": {
      "needs_background": "light"
     },
     "output_type": "display_data"
    },
    {
     "data": {
      "image/png": "[encoded data removed]",
      "text/plain": [
       "<Figure size 432x288 with 1 Axes>"
      ]
     },
     "metadata": {
      "needs_background": "light"
     },
     "output_type": "display_data"
    }
   ],
   "source": [
    "import matplotlib.pyplot as plt\n",
    "\n",
    "\n",
    "def plot_graphs(history, string):\n",
    "    plt.plot(history.history[string])\n",
    "    plt.plot(history.history['val_'+string])\n",
    "    plt.xlabel(\"Epochs\")\n",
    "    plt.ylabel(string)\n",
    "    plt.legend([string, 'val_'+string])\n",
    "    plt.show()\n",
    "\n",
    "plot_graphs(history, \"accuracy\")\n",
    "plot_graphs(history, \"loss\")"
   ]
  },
  {
   "cell_type": "code",
   "execution_count": 16,
   "metadata": {},
   "outputs": [
    {
     "name": "stdout",
     "output_type": "stream",
     "text": [
      "former <OOV> store clerk sues over secret 'black <OOV> for minority shoppers ? ? ? ? ? ? ? ? ? ? ? ? ? ? ? ? ? ? ? ? ? ? ? ? ? ? ? ? ? ? ? ? ? ? ? ? ? ? ? ? ? ? ? ? ? ? ? ? ? ? ? ? ? ? ? ? ? ? ? ? ? ? ? ? ? ? ? ? ? ? ? ? ? ? ? ? ? ? ? ? ? ? ? ? ? ? ? ?\n",
      "mom starting to fear son's web series closest thing she will have to grandchild\n",
      "1\n"
     ]
    }
   ],
   "source": [
    "reverse_word_index = dict([(value, key) for (key, value) in word_index.items()])\n",
    "\n",
    "def decode_sentence(text):\n",
    "    return ' '.join([reverse_word_index.get(i, '?') for i in text])\n",
    "\n",
    "print(decode_sentence(training_padded[0]))\n",
    "print(training_sentences[2])\n",
    "print(labels[2])"
   ]
  },
  {
   "cell_type": "code",
   "execution_count": 17,
   "metadata": {},
   "outputs": [
    {
     "name": "stdout",
     "output_type": "stream",
     "text": [
      "(10000, 16)\n"
     ]
    }
   ],
   "source": [
    "e = model.layers[0]\n",
    "weights = e.get_weights()[0]\n",
    "print(weights.shape) # shape: (vocab_size, embedding_dim)"
   ]
  },
  {
   "cell_type": "code",
   "execution_count": 20,
   "metadata": {
    "scrolled": true
   },
   "outputs": [
    {
     "data": {
      "text/plain": [
       "[<tensorflow.python.keras.layers.embeddings.Embedding at 0x173045f34a8>,\n",
       " <tensorflow.python.keras.layers.pooling.GlobalAveragePooling1D at 0x173022647f0>,\n",
       " <tensorflow.python.keras.layers.core.Dense at 0x173022645f8>,\n",
       " <tensorflow.python.keras.layers.core.Dense at 0x173022642e8>]"
      ]
     },
     "execution_count": 20,
     "metadata": {},
     "output_type": "execute_result"
    }
   ],
   "source": [
    "model.layers"
   ]
  },
  {
   "cell_type": "code",
   "execution_count": 18,
   "metadata": {},
   "outputs": [],
   "source": [
    "import io\n",
    "\n",
    "out_v = io.open('vecs.tsv', 'w', encoding='utf-8')\n",
    "out_m = io.open('meta.tsv', 'w', encoding='utf-8')\n",
    "for word_num in range(1, vocab_size):\n",
    "    word = reverse_word_index[word_num]\n",
    "    embeddings = weights[word_num]\n",
    "    out_m.write(word + \"\\n\")\n",
    "    out_v.write('\\t'.join([str(x) for x in embeddings]) + \"\\n\")\n",
    "out_v.close()\n",
    "out_m.close()"
   ]
  },
  {
   "cell_type": "code",
   "execution_count": 28,
   "metadata": {},
   "outputs": [],
   "source": [
    "try:\n",
    "    from google.colab import files\n",
    "except ImportError:\n",
    "    pass\n",
    "else:\n",
    "    files.download('vecs.tsv')\n",
    "    files.download('meta.tsv')"
   ]
  },
  {
   "cell_type": "code",
   "execution_count": 29,
   "metadata": {},
   "outputs": [
    {
     "name": "stdout",
     "output_type": "stream",
     "text": [
      "[[7.3016554e-01]\n",
      " [2.0645066e-06]]\n"
     ]
    }
   ],
   "source": [
    "sentence = [\"granny starting to fear spiders in the garden might be real\", \"game of thrones season finale showing this sunday night\"]\n",
    "sequences = tokenizer.texts_to_sequences(sentence)\n",
    "padded = pad_sequences(sequences, maxlen=max_length, padding=padding_type, truncating=trunc_type)\n",
    "print(model.predict(padded))"
   ]
  }
 ],
 "metadata": {
  "kernelspec": {
   "display_name": "Python 3",
   "language": "python",
   "name": "python3"
  },
  "language_info": {
   "codemirror_mode": {
    "name": "ipython",
    "version": 3
   },
   "file_extension": ".py",
   "mimetype": "text/x-python",
   "name": "python",
   "nbconvert_exporter": "python",
   "pygments_lexer": "ipython3",
   "version": "3.7.3"
  }
 },
 "nbformat": 4,
 "nbformat_minor": 4
}
